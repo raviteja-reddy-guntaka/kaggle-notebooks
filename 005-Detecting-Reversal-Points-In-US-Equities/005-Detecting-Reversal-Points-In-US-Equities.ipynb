{
 "cells": [
  {
   "cell_type": "code",
   "execution_count": 6,
   "id": "2529ef45-2dfa-4dc2-9b24-0420888d35e2",
   "metadata": {},
   "outputs": [
    {
     "name": "stdout",
     "output_type": "stream",
     "text": [
      "Files extracted to: data/\n"
     ]
    }
   ],
   "source": [
    "# Reusable code to extract the contents from the zip file \n",
    "import zipfile\n",
    "import os\n",
    "import pandas as pd\n",
    "\n",
    "zip_path = \"data/detecting-reversal-points-in-us-equities.zip\"\n",
    "extract_dir = \"data/\"\n",
    "\n",
    "with zipfile.ZipFile(zip_path, 'r') as zip_ref:\n",
    "    zip_ref.extractall(extract_dir)\n",
    "\n",
    "print(\"Files extracted to:\", extract_dir)"
   ]
  },
  {
   "cell_type": "code",
   "execution_count": 5,
   "id": "d264346c-194d-4068-8ef5-5c60ad4094f4",
   "metadata": {},
   "outputs": [
    {
     "name": "stderr",
     "output_type": "stream",
     "text": [
      "C:\\Users\\tejar\\AppData\\Local\\Temp\\ipykernel_5168\\1734775062.py:5: DtypeWarning: Columns (68506) have mixed types. Specify dtype option on import or set low_memory=False.\n",
      "  train_data = pd.read_csv(train_file_path)\n"
     ]
    },
    {
     "name": "stdout",
     "output_type": "stream",
     "text": [
      "Train Data:\n",
      "\n",
      "Index(['train_id', 'ticker_id', 't', 'cross_threshold_from_above_100.0',\n",
      "       'cross_threshold_from_above_100.5', 'cross_threshold_from_above_101.0',\n",
      "       'cross_threshold_from_above_101.5', 'cross_threshold_from_above_102.0',\n",
      "       'cross_threshold_from_above_102.5', 'cross_threshold_from_above_103.0',\n",
      "       ...\n",
      "       'zone_102.0', 'zone_102.5', 'zone_103.0', 'zone_97.0', 'zone_97.5',\n",
      "       'zone_98.0', 'zone_98.5', 'zone_99.0', 'zone_99.5', 'class_label'],\n",
      "      dtype='object', length=68507)\n",
      "<bound method NDFrame.head of       train_id  ticker_id           t  cross_threshold_from_above_100.0  \\\n",
      "0            0          2  2024-06-10                             False   \n",
      "1            1          3  2024-09-18                             False   \n",
      "2            2          6  2023-05-10                             False   \n",
      "3            3          3  2024-11-18                             False   \n",
      "4            4          2  2024-08-21                             False   \n",
      "...        ...        ...         ...                               ...   \n",
      "1927      1927          6  2023-09-15                             False   \n",
      "1928      1928          1  2024-02-22                             False   \n",
      "1929      1929          6  2023-04-26                             False   \n",
      "1930      1930          6  2024-09-04                             False   \n",
      "1931      1931          6  2024-04-30                             False   \n",
      "\n",
      "      cross_threshold_from_above_100.5  cross_threshold_from_above_101.0  \\\n",
      "0                                False                             False   \n",
      "1                                False                             False   \n",
      "2                                False                             False   \n",
      "3                                False                             False   \n",
      "4                                False                             False   \n",
      "...                                ...                               ...   \n",
      "1927                             False                             False   \n",
      "1928                             False                             False   \n",
      "1929                             False                             False   \n",
      "1930                             False                             False   \n",
      "1931                             False                              True   \n",
      "\n",
      "      cross_threshold_from_above_101.5  cross_threshold_from_above_102.0  \\\n",
      "0                                False                             False   \n",
      "1                                False                             False   \n",
      "2                                False                             False   \n",
      "3                                False                             False   \n",
      "4                                False                             False   \n",
      "...                                ...                               ...   \n",
      "1927                             False                             False   \n",
      "1928                             False                             False   \n",
      "1929                             False                             False   \n",
      "1930                             False                             False   \n",
      "1931                             False                             False   \n",
      "\n",
      "      cross_threshold_from_above_102.5  cross_threshold_from_above_103.0  ...  \\\n",
      "0                                False                             False  ...   \n",
      "1                                False                             False  ...   \n",
      "2                                False                             False  ...   \n",
      "3                                False                             False  ...   \n",
      "4                                False                             False  ...   \n",
      "...                                ...                               ...  ...   \n",
      "1927                             False                             False  ...   \n",
      "1928                             False                             False  ...   \n",
      "1929                             False                             False  ...   \n",
      "1930                             False                             False  ...   \n",
      "1931                             False                             False  ...   \n",
      "\n",
      "      zone_102.0  zone_102.5  zone_103.0  zone_97.0  zone_97.5  zone_98.0  \\\n",
      "0          False       False       False      False      False      False   \n",
      "1          False       False       False      False       True       True   \n",
      "2          False       False       False      False      False      False   \n",
      "3          False       False       False      False      False      False   \n",
      "4           True        True       False      False      False      False   \n",
      "...          ...         ...         ...        ...        ...        ...   \n",
      "1927       False       False       False      False      False      False   \n",
      "1928       False       False       False      False      False      False   \n",
      "1929       False       False       False      False      False      False   \n",
      "1930       False       False       False      False      False      False   \n",
      "1931       False       False       False      False      False      False   \n",
      "\n",
      "      zone_98.5  zone_99.0  zone_99.5  class_label  \n",
      "0          True       True      False          NaN  \n",
      "1         False      False      False          NaN  \n",
      "2          True       True      False          NaN  \n",
      "3         False      False      False          NaN  \n",
      "4         False      False      False          NaN  \n",
      "...         ...        ...        ...          ...  \n",
      "1927      False      False       True          NaN  \n",
      "1928      False      False       True          NaN  \n",
      "1929       True       True      False           LL  \n",
      "1930      False      False      False           HH  \n",
      "1931      False      False      False          NaN  \n",
      "\n",
      "[1932 rows x 68507 columns]>\n"
     ]
    }
   ],
   "source": [
    "# Perform intial EDA to understand the data\n",
    "\n",
    "# Path of the training file to read\n",
    "train_file_path = 'data/competition_data/train.csv'\n",
    "train_data = pd.read_csv(train_file_path)\n",
    "\n",
    "print('Train Data:\\n')\n",
    "print(train_data.columns)\n",
    "print(train_data.head)"
   ]
  },
  {
   "cell_type": "code",
   "execution_count": 7,
   "id": "876bedf0-6800-4853-a765-d2df6d02c685",
   "metadata": {},
   "outputs": [],
   "source": [
    "# Path of the training file to read\n",
    "test_file_path = 'data/competition_data/test.csv'\n",
    "test_data = pd.read_csv(test_file_path)\n",
    "\n",
    "# print('Test Data:\\n')\n",
    "# print(test_data.columns)\n",
    "# print(test_data.head)"
   ]
  },
  {
   "cell_type": "code",
   "execution_count": 8,
   "id": "3c98547c-4a6d-40db-a09f-abf96b6f9dcc",
   "metadata": {},
   "outputs": [
    {
     "name": "stdout",
     "output_type": "stream",
     "text": [
      "Sample Submission Data:\n",
      "\n",
      "Index(['id', 'class_label'], dtype='object')\n",
      "<bound method NDFrame.head of       id  class_label\n",
      "0      0          NaN\n",
      "1      1          NaN\n",
      "2      2          NaN\n",
      "3      3          NaN\n",
      "4      4          NaN\n",
      "..   ...          ...\n",
      "823  823          NaN\n",
      "824  824          NaN\n",
      "825  825          NaN\n",
      "826  826          NaN\n",
      "827  827          NaN\n",
      "\n",
      "[828 rows x 2 columns]>\n"
     ]
    }
   ],
   "source": [
    "sample_submission_file_path = 'data/competition_data/sample_submission.csv'\n",
    "sample_submission_data = pd.read_csv(sample_submission_file_path)\n",
    "\n",
    "print('Sample Submission Data:\\n')\n",
    "print(sample_submission_data.columns)\n",
    "print(sample_submission_data.head)"
   ]
  }
 ],
 "metadata": {
  "kernelspec": {
   "display_name": "Python 3 (ipykernel)",
   "language": "python",
   "name": "python3"
  },
  "language_info": {
   "codemirror_mode": {
    "name": "ipython",
    "version": 3
   },
   "file_extension": ".py",
   "mimetype": "text/x-python",
   "name": "python",
   "nbconvert_exporter": "python",
   "pygments_lexer": "ipython3",
   "version": "3.12.5"
  }
 },
 "nbformat": 4,
 "nbformat_minor": 5
}
